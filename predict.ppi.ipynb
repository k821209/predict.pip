{
 "cells": [
  {
   "cell_type": "code",
   "execution_count": 122,
   "metadata": {
    "collapsed": true
   },
   "outputs": [],
   "source": [
    "import pandas as pd\n",
    "import sys\n",
    "sys.path.append('/ref/analysis/pipelines/')\n",
    "import kang\n",
    "import re\n",
    "from tqdm import tqdm\n",
    "import random"
   ]
  },
  {
   "cell_type": "code",
   "execution_count": 2,
   "metadata": {
    "collapsed": true
   },
   "outputs": [],
   "source": [
    "file_ath_pep = '/ref/analysis/References/Athaliana/annotation/Athaliana_167_TAIR10.protein_primaryTranscriptOnly.fa'"
   ]
  },
  {
   "cell_type": "code",
   "execution_count": 3,
   "metadata": {
    "collapsed": true
   },
   "outputs": [],
   "source": [
    "dic_ath_pep = kang.Fasta2dic(file_ath_pep)"
   ]
  },
  {
   "cell_type": "code",
   "execution_count": 4,
   "metadata": {
    "collapsed": false
   },
   "outputs": [
    {
     "data": {
      "text/plain": [
       "27416"
      ]
     },
     "execution_count": 4,
     "metadata": {},
     "output_type": "execute_result"
    }
   ],
   "source": [
    "# number of protein in total\n",
    "len(dic_ath_pep.keys())"
   ]
  },
  {
   "cell_type": "code",
   "execution_count": 5,
   "metadata": {
    "collapsed": true
   },
   "outputs": [],
   "source": [
    "aminoacids_pre = set(kang.gencode.values())"
   ]
  },
  {
   "cell_type": "code",
   "execution_count": 6,
   "metadata": {
    "collapsed": false
   },
   "outputs": [],
   "source": [
    "aminoacids = list(aminoacids_pre-{'*'})"
   ]
  },
  {
   "cell_type": "code",
   "execution_count": 149,
   "metadata": {
    "collapsed": false
   },
   "outputs": [],
   "source": [
    "comp = []\n",
    "for aa in aminoacids:\n",
    "    for aa1 in aminoacids:\n",
    "        comp.append(aa+aa1)\n",
    "        #comp.append(aa+'.'+aa1)"
   ]
  },
  {
   "cell_type": "code",
   "execution_count": 150,
   "metadata": {
    "collapsed": false
   },
   "outputs": [],
   "source": [
    "test = dic_ath_pep.values()[3]\n",
    "test2 = dic_ath_pep.values()[4]"
   ]
  },
  {
   "cell_type": "code",
   "execution_count": 151,
   "metadata": {
    "collapsed": false
   },
   "outputs": [
    {
     "name": "stderr",
     "output_type": "stream",
     "text": [
      "100%|██████████| 400/400 [00:00<00:00, 2485.98it/s]\n"
     ]
    }
   ],
   "source": [
    "key_list = []\n",
    "for c1 in tqdm(comp):\n",
    "    for c2 in comp: \n",
    "        key = [c1,c2]\n",
    "        key.sort()\n",
    "        key = tuple(key)\n",
    "        key_list.append(key)   "
   ]
  },
  {
   "cell_type": "code",
   "execution_count": 152,
   "metadata": {
    "collapsed": false
   },
   "outputs": [],
   "source": [
    "key_list_rd = list(set(key_list))"
   ]
  },
  {
   "cell_type": "code",
   "execution_count": 139,
   "metadata": {
    "collapsed": false
   },
   "outputs": [],
   "source": [
    "def get_score_array(seq1,seq2):\n",
    "    score =[]\n",
    "    for a,b in key_list_rd:\n",
    "        s_c1 = bool(re.search(a,seq1))\n",
    "        s_c2 = bool(re.search(b,seq2))\n",
    "        if s_c1 + s_c2 == 2:\n",
    "            score.append(1)\n",
    "        elif s_c1 + s_c2 < 2:\n",
    "            score.append(0)\n",
    "        else:\n",
    "            print s_c1,s_c2\n",
    "    return(score)\n",
    "\n",
    "    "
   ]
  },
  {
   "cell_type": "markdown",
   "metadata": {},
   "source": [
    "----"
   ]
  },
  {
   "cell_type": "code",
   "execution_count": 107,
   "metadata": {
    "collapsed": false
   },
   "outputs": [
    {
     "name": "stderr",
     "output_type": "stream",
     "text": [
      "/usr/local/lib/python2.7/dist-packages/ipykernel/__main__.py:19: SettingWithCopyWarning: \n",
      "A value is trying to be set on a copy of a slice from a DataFrame.\n",
      "Try using .loc[row_indexer,col_indexer] = value instead\n",
      "\n",
      "See the caveats in the documentation: http://pandas.pydata.org/pandas-docs/stable/indexing.html#indexing-view-versus-copy\n",
      "/usr/local/lib/python2.7/dist-packages/ipykernel/__main__.py:20: SettingWithCopyWarning: \n",
      "A value is trying to be set on a copy of a slice from a DataFrame.\n",
      "Try using .loc[row_indexer,col_indexer] = value instead\n",
      "\n",
      "See the caveats in the documentation: http://pandas.pydata.org/pandas-docs/stable/indexing.html#indexing-view-versus-copy\n"
     ]
    }
   ],
   "source": [
    "# Database intact parsing\n",
    "file_intact = './intact.ath.txt' \n",
    "df_intact_pre = pd.read_csv(file_intact,sep='\\t')\n",
    "\n",
    "mask = df_intact_pre['Host organism(s)'].apply(lambda x : 'taxid:3702' in x) # 순수 아라비돕시스 결과만 가져온다. \n",
    "df_intact = df_intact_pre[mask]\n",
    "\n",
    "def get_genename(x):\n",
    "    value = [a.split('(')[0] for a in x.split('|')]\n",
    "    key   = [a.split('(')[1].replace(')','') for a in x.split('|')]\n",
    "    dic = dict(zip(key,value))\n",
    "    try:\n",
    "        #print dic['locus name']\n",
    "        result = re.search('AT.G[0-9]+',dic['locus name'].upper()).group(0)\n",
    "        return result\n",
    "    except:\n",
    "        return None\n",
    "              \n",
    "df_intact['genename_A']=df_intact['Alias(es) interactor A'].apply(get_genename)\n",
    "df_intact['genename_B']=df_intact['Alias(es) interactor B'].apply(get_genename)"
   ]
  },
  {
   "cell_type": "code",
   "execution_count": 108,
   "metadata": {
    "collapsed": false
   },
   "outputs": [],
   "source": [
    "intact_positives = []\n",
    "for n,genenameA in enumerate(df_intact['genename_A']):\n",
    "    genenameB = list(df_intact['genename_B'])[n]\n",
    "    key = [genenameA,genenameB]\n",
    "    key.sort()\n",
    "    key = tuple(key)\n",
    "    intact_positives.append(key)\n",
    "intact_positives = set(intact_positives)"
   ]
  },
  {
   "cell_type": "code",
   "execution_count": 109,
   "metadata": {
    "collapsed": false
   },
   "outputs": [
    {
     "data": {
      "text/plain": [
       "2858"
      ]
     },
     "execution_count": 109,
     "metadata": {},
     "output_type": "execute_result"
    }
   ],
   "source": [
    "# number of edges in intact\n",
    "len(intact_positives)"
   ]
  },
  {
   "cell_type": "code",
   "execution_count": 110,
   "metadata": {
    "collapsed": false
   },
   "outputs": [
    {
     "data": {
      "text/plain": [
       "19028"
      ]
     },
     "execution_count": 110,
     "metadata": {},
     "output_type": "execute_result"
    }
   ],
   "source": [
    "len(df_intact_pre) # 요거 고쳐라. "
   ]
  },
  {
   "cell_type": "markdown",
   "metadata": {},
   "source": [
    "----"
   ]
  },
  {
   "cell_type": "code",
   "execution_count": 103,
   "metadata": {
    "collapsed": true
   },
   "outputs": [],
   "source": [
    "# AI1 parsing\n",
    "file_ai1 = './ai1.tableS4.txt'\n",
    "df_ai1   = pd.read_csv(file_ai1,sep='\\t')"
   ]
  },
  {
   "cell_type": "code",
   "execution_count": 111,
   "metadata": {
    "collapsed": false
   },
   "outputs": [],
   "source": [
    "mask = df_ai1['AI-1MAIN'] == 1\n",
    "df_ai1_pos = df_ai1[mask]"
   ]
  },
  {
   "cell_type": "code",
   "execution_count": 116,
   "metadata": {
    "collapsed": true
   },
   "outputs": [],
   "source": [
    "ai1_positives = []\n",
    "for n,genenameA in enumerate(df_ai1_pos['TAIR_LOCUS_IDA']):\n",
    "    genenameB = list(df_ai1_pos['TAIR_LOCUS_IDB'])[n]\n",
    "    key = [genenameA,genenameB]\n",
    "    key.sort()\n",
    "    key = tuple(key)\n",
    "    ai1_positives.append(key)"
   ]
  },
  {
   "cell_type": "code",
   "execution_count": 131,
   "metadata": {
    "collapsed": false
   },
   "outputs": [],
   "source": [
    "negative_references = []\n",
    "while len(negative_references) != len(ai1_positives):\n",
    "    genenameA = random.choice(dic_ath_pep.keys()).split('.')[0]\n",
    "    genenameB = random.choice(dic_ath_pep.keys()).split('.')[0]\n",
    "    key = [genenameA,genenameB]\n",
    "    key.sort()\n",
    "    key = tuple(key)\n",
    "    if key in set(ai1_positives) or key in set(intact_positives):\n",
    "        pass\n",
    "    else:\n",
    "        negative_references.append(key)\n",
    "    "
   ]
  },
  {
   "cell_type": "code",
   "execution_count": 135,
   "metadata": {
    "collapsed": false
   },
   "outputs": [
    {
     "data": {
      "text/plain": [
       "set()"
      ]
     },
     "execution_count": 135,
     "metadata": {},
     "output_type": "execute_result"
    }
   ],
   "source": [
    "set(negative_references) & set(intact_positives)"
   ]
  },
  {
   "cell_type": "code",
   "execution_count": 147,
   "metadata": {
    "collapsed": false
   },
   "outputs": [],
   "source": [
    "key   = [x.split('.')[0] for x in dic_ath_pep.keys()]\n",
    "value = dic_ath_pep.values()\n",
    "dic_ath_pep_genename = dict(zip(key,value))"
   ]
  },
  {
   "cell_type": "code",
   "execution_count": null,
   "metadata": {
    "collapsed": false
   },
   "outputs": [
    {
     "name": "stderr",
     "output_type": "stream",
     "text": [
      " 65%|██████▍   | 3677/5664 [3:59:27<2:10:38,  3.94s/it]"
     ]
    }
   ],
   "source": [
    "dicGP2Score = {}\n",
    "for a,b in tqdm(ai1_positives):\n",
    "    try:\n",
    "        seq1 = dic_ath_pep_genename[a]\n",
    "        seq2 = dic_ath_pep_genename[b]\n",
    "        dicGP2Score[(a,b)] = get_score_array(seq1,seq2)\n",
    "        dicGP2Score[(a,b)].append(1)\n",
    "    except KeyError:\n",
    "        continue"
   ]
  },
  {
   "cell_type": "code",
   "execution_count": 163,
   "metadata": {
    "collapsed": false
   },
   "outputs": [
    {
     "name": "stderr",
     "output_type": "stream",
     "text": [
      "100%|██████████| 100/100 [06:35<00:00,  4.03s/it]\n"
     ]
    }
   ],
   "source": [
    "for a,b in tqdm(negative_references[0:100]):\n",
    "    try:\n",
    "        seq1 = dic_ath_pep_genename[a]\n",
    "        seq2 = dic_ath_pep_genename[b]\n",
    "        dicGP2Score[(a,b)] = get_score_array(seq1,seq2)\n",
    "        dicGP2Score[(a,b)].append(0)\n",
    "    except KeyError:\n",
    "        continue"
   ]
  },
  {
   "cell_type": "code",
   "execution_count": 161,
   "metadata": {
    "collapsed": false
   },
   "outputs": [
    {
     "data": {
      "text/plain": [
       "5632"
      ]
     },
     "execution_count": 161,
     "metadata": {},
     "output_type": "execute_result"
    }
   ],
   "source": [
    "len(dicGP2Score.keys())"
   ]
  },
  {
   "cell_type": "code",
   "execution_count": 162,
   "metadata": {
    "collapsed": false
   },
   "outputs": [
    {
     "data": {
      "text/plain": [
       "5664"
      ]
     },
     "execution_count": 162,
     "metadata": {},
     "output_type": "execute_result"
    }
   ],
   "source": [
    "len(ai1_positives)"
   ]
  },
  {
   "cell_type": "code",
   "execution_count": 144,
   "metadata": {
    "collapsed": false
   },
   "outputs": [
    {
     "data": {
      "text/plain": [
       "320400"
      ]
     },
     "execution_count": 144,
     "metadata": {},
     "output_type": "execute_result"
    }
   ],
   "source": [
    "len(key_list_rd)"
   ]
  },
  {
   "cell_type": "code",
   "execution_count": null,
   "metadata": {
    "collapsed": true
   },
   "outputs": [],
   "source": []
  }
 ],
 "metadata": {
  "kernelspec": {
   "display_name": "Python 2",
   "language": "python",
   "name": "python2"
  },
  "language_info": {
   "codemirror_mode": {
    "name": "ipython",
    "version": 2
   },
   "file_extension": ".py",
   "mimetype": "text/x-python",
   "name": "python",
   "nbconvert_exporter": "python",
   "pygments_lexer": "ipython2",
   "version": "2.7.6"
  }
 },
 "nbformat": 4,
 "nbformat_minor": 0
}
